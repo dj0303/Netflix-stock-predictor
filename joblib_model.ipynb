{
 "cells": [
  {
   "cell_type": "code",
   "execution_count": 20,
   "id": "a8171b27-7185-40cd-9189-2fff9ae80c68",
   "metadata": {},
   "outputs": [],
   "source": [
    "import joblib\n",
    "import pandas as pd"
   ]
  },
  {
   "cell_type": "code",
   "execution_count": 21,
   "id": "522a5ac8-fac2-459e-863f-351cc6470747",
   "metadata": {},
   "outputs": [],
   "source": [
    "model = joblib.load('refined_model.joblib')"
   ]
  },
  {
   "cell_type": "code",
   "execution_count": 22,
   "id": "122e2a78-8d11-4e1c-9a6c-02a48f72b427",
   "metadata": {},
   "outputs": [],
   "source": [
    "test_input = pd.DataFrame([[135.0, 140.0, 130.0, 500000, 2021, 7, 9]],\n",
    "                            columns=['Open', 'High', 'Low', 'Volume', 'Year', 'Month', 'Day'])"
   ]
  },
  {
   "cell_type": "code",
   "execution_count": 23,
   "id": "3001c5c5-6e1b-470b-aaf5-f254f2031e0d",
   "metadata": {},
   "outputs": [
    {
     "name": "stdout",
     "output_type": "stream",
     "text": [
      "Predicted Closing Price: 135.67088421720428\n"
     ]
    },
    {
     "name": "stderr",
     "output_type": "stream",
     "text": [
      "C:\\Users\\Dayaan Jain\\AppData\\Local\\Programs\\Python\\Python313\\Lib\\site-packages\\sklearn\\utils\\validation.py:2732: UserWarning: X has feature names, but LinearRegression was fitted without feature names\n",
      "  warnings.warn(\n"
     ]
    }
   ],
   "source": [
    "pred = model.predict(test_input)\n",
    "print(\"Predicted Closing Price:\", pred[0])"
   ]
  }
 ],
 "metadata": {
  "kernelspec": {
   "display_name": "Python 3 (ipykernel)",
   "language": "python",
   "name": "python3"
  },
  "language_info": {
   "codemirror_mode": {
    "name": "ipython",
    "version": 3
   },
   "file_extension": ".py",
   "mimetype": "text/x-python",
   "name": "python",
   "nbconvert_exporter": "python",
   "pygments_lexer": "ipython3",
   "version": "3.13.0"
  }
 },
 "nbformat": 4,
 "nbformat_minor": 5
}
